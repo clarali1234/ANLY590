{
  "nbformat": 4,
  "nbformat_minor": 0,
  "metadata": {
    "colab": {
      "name": "hw3_part3.ipynb",
      "provenance": [],
      "collapsed_sections": []
    },
    "kernelspec": {
      "name": "python3",
      "display_name": "Python 3"
    }
  },
  "cells": [
    {
      "cell_type": "code",
      "metadata": {
        "id": "s3B_33Lzw-9S"
      },
      "source": [
        "import tensorflow as tf\n",
        "import tensorflow.keras as tfk\n",
        "import tensorflow.keras.layers as tfkl\n",
        "from tensorflow.keras.models import Sequential\n",
        "\n",
        "\n",
        "import numpy as np\n",
        "import pandas as pd"
      ],
      "execution_count": null,
      "outputs": []
    },
    {
      "cell_type": "code",
      "metadata": {
        "id": "jKTS00jSxC1R"
      },
      "source": [
        "df = pd.read_csv('/SPAM_detection.csv')\n"
      ],
      "execution_count": null,
      "outputs": []
    },
    {
      "cell_type": "code",
      "metadata": {
        "colab": {
          "base_uri": "https://localhost:8080/",
          "height": 142
        },
        "id": "KhNFfRzUxyi3",
        "outputId": "543ae3a8-b4f8-4e11-9fc1-019113d5d9c8"
      },
      "source": [
        "df.head(3)"
      ],
      "execution_count": null,
      "outputs": [
        {
          "output_type": "execute_result",
          "data": {
            "text/html": [
              "<div>\n",
              "<style scoped>\n",
              "    .dataframe tbody tr th:only-of-type {\n",
              "        vertical-align: middle;\n",
              "    }\n",
              "\n",
              "    .dataframe tbody tr th {\n",
              "        vertical-align: top;\n",
              "    }\n",
              "\n",
              "    .dataframe thead th {\n",
              "        text-align: right;\n",
              "    }\n",
              "</style>\n",
              "<table border=\"1\" class=\"dataframe\">\n",
              "  <thead>\n",
              "    <tr style=\"text-align: right;\">\n",
              "      <th></th>\n",
              "      <th>Message</th>\n",
              "      <th>category_val</th>\n",
              "    </tr>\n",
              "  </thead>\n",
              "  <tbody>\n",
              "    <tr>\n",
              "      <th>0</th>\n",
              "      <td>Go until jurong point, crazy.. Available only ...</td>\n",
              "      <td>0</td>\n",
              "    </tr>\n",
              "    <tr>\n",
              "      <th>1</th>\n",
              "      <td>Ok lar... Joking wif u oni...</td>\n",
              "      <td>0</td>\n",
              "    </tr>\n",
              "    <tr>\n",
              "      <th>2</th>\n",
              "      <td>Free entry in 2 a wkly comp to win FA Cup fina...</td>\n",
              "      <td>1</td>\n",
              "    </tr>\n",
              "  </tbody>\n",
              "</table>\n",
              "</div>"
            ],
            "text/plain": [
              "                                             Message  category_val\n",
              "0  Go until jurong point, crazy.. Available only ...             0\n",
              "1                      Ok lar... Joking wif u oni...             0\n",
              "2  Free entry in 2 a wkly comp to win FA Cup fina...             1"
            ]
          },
          "metadata": {
            "tags": []
          },
          "execution_count": 8
        }
      ]
    },
    {
      "cell_type": "code",
      "metadata": {
        "colab": {
          "base_uri": "https://localhost:8080/"
        },
        "id": "64tNxCK8x013",
        "outputId": "e3d86172-949c-424a-cd42-0b624537f4b9"
      },
      "source": [
        "maxlen=5\n",
        "all_char = ''\n",
        "\n",
        "for idx, row in df.iterrows():\n",
        "    \n",
        "      all_char += df.loc[idx, \"Message\"]\n",
        "\n",
        "chars = (sorted(list(set(all_char))))\n",
        "\n",
        "char_indices = dict((c, i) for i, c in enumerate(chars))\n",
        "indices_char = dict((i, c) for i, c in enumerate(chars))\n",
        "\n",
        "print('total chars:', len(chars))\n",
        "\n"
      ],
      "execution_count": null,
      "outputs": [
        {
          "output_type": "stream",
          "text": [
            "total chars: 118\n"
          ],
          "name": "stdout"
        }
      ]
    },
    {
      "cell_type": "code",
      "metadata": {
        "id": "4urYumrFydrz"
      },
      "source": [
        "sequences = df['Message']\n",
        "X = np.zeros((len(sequences), maxlen, len(chars)), dtype=np.uint8)\n",
        "Y = np.array(df['category_val'])\n"
      ],
      "execution_count": null,
      "outputs": []
    },
    {
      "cell_type": "code",
      "metadata": {
        "id": "H7E8YfWpyluD"
      },
      "source": [
        "from sklearn.model_selection import train_test_split\n",
        "x_train, x_test, y_train, y_test = train_test_split( X, Y, test_size=0.33, random_state=42)"
      ],
      "execution_count": null,
      "outputs": []
    },
    {
      "cell_type": "code",
      "metadata": {
        "colab": {
          "base_uri": "https://localhost:8080/"
        },
        "id": "mo8aypYNy5pT",
        "outputId": "20a5bc87-6df1-4e3b-dfe5-983a688bc51b"
      },
      "source": [
        "model = Sequential()\n",
        "\n",
        "model.add(tfkl.LSTM(64, input_shape=(maxlen, len(chars))))\n",
        "model.add(tfkl.Dense(1,activation=\"sigmoid\"))\n",
        "\n",
        "model.summary()"
      ],
      "execution_count": null,
      "outputs": [
        {
          "output_type": "stream",
          "text": [
            "Model: \"sequential_2\"\n",
            "_________________________________________________________________\n",
            "Layer (type)                 Output Shape              Param #   \n",
            "=================================================================\n",
            "lstm (LSTM)                  (None, 64)                46848     \n",
            "_________________________________________________________________\n",
            "dense (Dense)                (None, 1)                 65        \n",
            "=================================================================\n",
            "Total params: 46,913\n",
            "Trainable params: 46,913\n",
            "Non-trainable params: 0\n",
            "_________________________________________________________________\n"
          ],
          "name": "stdout"
        }
      ]
    },
    {
      "cell_type": "code",
      "metadata": {
        "colab": {
          "base_uri": "https://localhost:8080/"
        },
        "id": "Yw02R25vyviO",
        "outputId": "c0ebf53b-c13c-41f1-ee98-12a6e764a955"
      },
      "source": [
        "model.compile(loss='binary_crossentropy', optimizer=tfk.optimizers.RMSprop(lr=0.01),metrics=['accuracy'])\n",
        "results = model.fit(x_train, y_train, epochs=20, batch_size=200)"
      ],
      "execution_count": null,
      "outputs": [
        {
          "output_type": "stream",
          "text": [
            "Epoch 1/20\n",
            "19/19 [==============================] - 0s 16ms/step - loss: 0.4435 - accuracy: 0.8658\n",
            "Epoch 2/20\n",
            "19/19 [==============================] - 0s 15ms/step - loss: 0.4011 - accuracy: 0.8658\n",
            "Epoch 3/20\n",
            "19/19 [==============================] - 0s 15ms/step - loss: 0.4044 - accuracy: 0.8658\n",
            "Epoch 4/20\n",
            "19/19 [==============================] - 0s 15ms/step - loss: 0.3990 - accuracy: 0.8658\n",
            "Epoch 5/20\n",
            "19/19 [==============================] - 0s 15ms/step - loss: 0.3980 - accuracy: 0.8658\n",
            "Epoch 6/20\n",
            "19/19 [==============================] - 0s 15ms/step - loss: 0.3961 - accuracy: 0.8658\n",
            "Epoch 7/20\n",
            "19/19 [==============================] - 0s 17ms/step - loss: 0.3978 - accuracy: 0.8658\n",
            "Epoch 8/20\n",
            "19/19 [==============================] - 0s 16ms/step - loss: 0.3973 - accuracy: 0.8658\n",
            "Epoch 9/20\n",
            "19/19 [==============================] - 0s 15ms/step - loss: 0.3953 - accuracy: 0.8658\n",
            "Epoch 10/20\n",
            "19/19 [==============================] - 0s 15ms/step - loss: 0.3977 - accuracy: 0.8658\n",
            "Epoch 11/20\n",
            "19/19 [==============================] - 0s 14ms/step - loss: 0.3956 - accuracy: 0.8658\n",
            "Epoch 12/20\n",
            "19/19 [==============================] - 0s 16ms/step - loss: 0.3969 - accuracy: 0.8658\n",
            "Epoch 13/20\n",
            "19/19 [==============================] - 0s 15ms/step - loss: 0.3958 - accuracy: 0.8658\n",
            "Epoch 14/20\n",
            "19/19 [==============================] - 0s 15ms/step - loss: 0.3952 - accuracy: 0.8658\n",
            "Epoch 15/20\n",
            "19/19 [==============================] - 0s 16ms/step - loss: 0.3953 - accuracy: 0.8658\n",
            "Epoch 16/20\n",
            "19/19 [==============================] - 0s 16ms/step - loss: 0.3956 - accuracy: 0.8658\n",
            "Epoch 17/20\n",
            "19/19 [==============================] - 0s 15ms/step - loss: 0.3964 - accuracy: 0.8658\n",
            "Epoch 18/20\n",
            "19/19 [==============================] - 0s 14ms/step - loss: 0.3953 - accuracy: 0.8658\n",
            "Epoch 19/20\n",
            "19/19 [==============================] - 0s 15ms/step - loss: 0.3945 - accuracy: 0.8658\n",
            "Epoch 20/20\n",
            "19/19 [==============================] - 0s 16ms/step - loss: 0.3956 - accuracy: 0.8658\n"
          ],
          "name": "stdout"
        }
      ]
    },
    {
      "cell_type": "code",
      "metadata": {
        "colab": {
          "base_uri": "https://localhost:8080/",
          "height": 282
        },
        "id": "9WCUadCHy9j6",
        "outputId": "16480a9c-2ff2-407b-9060-786ae07852a0"
      },
      "source": [
        "import matplotlib.pyplot as plt\n",
        "\n",
        "plt.plot(results.history[\"loss\"])\n",
        "plt.legend(labels=[\"train\", \"val\"])"
      ],
      "execution_count": null,
      "outputs": [
        {
          "output_type": "execute_result",
          "data": {
            "text/plain": [
              "<matplotlib.legend.Legend at 0x7f46158eb898>"
            ]
          },
          "metadata": {
            "tags": []
          },
          "execution_count": 19
        },
        {
          "output_type": "display_data",
          "data": {
            "image/png": "[encoded data removed]",
            "text/plain": [
              "<Figure size 432x288 with 1 Axes>"
            ]
          },
          "metadata": {
            "tags": [],
            "needs_background": "light"
          }
        }
      ]
    },
    {
      "cell_type": "code",
      "metadata": {
        "colab": {
          "base_uri": "https://localhost:8080/",
          "height": 352
        },
        "id": "sjTjPrQVzA9D",
        "outputId": "104f558a-269b-4c49-8c55-3a12831ea263"
      },
      "source": [
        "plt.stem(model.predict(x_test)[9, :])\n",
        "plt.xlabel(\"Digit\")\n",
        "plt.xlabel(\"Probability\")"
      ],
      "execution_count": null,
      "outputs": [
        {
          "output_type": "stream",
          "text": [
            "/usr/local/lib/python3.6/dist-packages/ipykernel_launcher.py:1: UserWarning: In Matplotlib 3.3 individual lines on a stem plot will be added as a LineCollection instead of individual lines. This significantly improves the performance of a stem plot. To remove this warning and switch to the new behaviour, set the \"use_line_collection\" keyword argument to True.\n",
            "  \"\"\"Entry point for launching an IPython kernel.\n"
          ],
          "name": "stderr"
        },
        {
          "output_type": "execute_result",
          "data": {
            "text/plain": [
              "Text(0.5, 0, 'Probability')"
            ]
          },
          "metadata": {
            "tags": []
          },
          "execution_count": 20
        },
        {
          "output_type": "display_data",
          "data": {
            "image/png": "[encoded data removed]",
            "text/plain": [
              "<Figure size 432x288 with 1 Axes>"
            ]
          },
          "metadata": {
            "tags": [],
            "needs_background": "light"
          }
        }
      ]
    },
    {
      "cell_type": "code",
      "metadata": {
        "colab": {
          "base_uri": "https://localhost:8080/"
        },
        "id": "g3jqG95LAV_k",
        "outputId": "aba2b7be-4820-405e-d344-56906753ffc4"
      },
      "source": [
        "import numpy as np\n",
        "import matplotlib.pyplot as plt\n",
        "import os\n",
        "\n",
        "from sklearn.model_selection import train_test_split\n",
        "from sklearn.metrics import f1_score\n",
        "\n",
        "from keras.callbacks import Callback\n",
        "from keras.preprocessing.text import Tokenizer\n",
        "from keras.preprocessing.sequence import pad_sequences\n",
        "from keras.layers import Input, Dense, Embedding, Dropout\n",
        "from keras.layers import Conv1D, MaxPool1D, Flatten, Concatenate\n",
        "from keras.models import Model\n",
        "from keras.utils.vis_utils import plot_model\n",
        "\n",
        "%load_ext autoreload\n",
        "%autoreload 2"
      ],
      "execution_count": null,
      "outputs": [
        {
          "output_type": "stream",
          "text": [
            "The autoreload extension is already loaded. To reload it, use:\n",
            "  %reload_ext autoreload\n"
          ],
          "name": "stdout"
        }
      ]
    },
    {
      "cell_type": "code",
      "metadata": {
        "id": "FewKz35YAU8O"
      },
      "source": [
        "from sklearn.model_selection import train_test_split\n",
        "X_train, X_val, y_train, y_val = train_test_split( X, Y, test_size=0.33, random_state=42)"
      ],
      "execution_count": null,
      "outputs": []
    },
    {
      "cell_type": "code",
      "metadata": {
        "id": "jxPq6784_8jK"
      },
      "source": [
        "embed_size = 300\n",
        "max_words = 50000\n",
        "maxlen = 100 # \n",
        "tokenizer = Tokenizer(num_words=max_words)\n",
        "tokenizer.fit_on_texts(list(X_train))\n",
        "X_train = tokenizer.texts_to_sequences(X_train)\n",
        "X_val = tokenizer.texts_to_sequences(X_val)\n",
        "word_index = tokenizer.word_index\n",
        "X_train = pad_sequences(X_train, maxlen=maxlen)\n",
        "X_val = pad_sequences(X_val, maxlen=maxlen)"
      ],
      "execution_count": null,
      "outputs": []
    },
    {
      "cell_type": "code",
      "metadata": {
        "id": "0Y0qOQXcBUJT"
      },
      "source": [
        "embed = np.zeros(shape=[max_words, embed_size])\n",
        "for word, idx in word_index.items():\n",
        "    if idx >= max_words: continue\n",
        "    vector = embedding_dict.get(word)\n",
        "    if vector is not None:\n",
        "        embed[idx] = vector"
      ],
      "execution_count": null,
      "outputs": []
    },
    {
      "cell_type": "code",
      "metadata": {
        "id": "Xlg9IsshA714"
      },
      "source": [
        "def create_cnn(filter_sizes, strides, num_filters, embed_train=False, dropout=0.2, plot=False):\n",
        "    sequence_input = Input(shape=(maxlen,), dtype='int32')\n",
        "    x = Embedding(max_words, embed_size, weights=[embed_mat], trainable=embed_train)(sequence_input)\n",
        "    conv_layers = []\n",
        "    maxpool_layers = []\n",
        "    for i in range(len(filter_sizes)):\n",
        "        conv_layers.append(Conv1D(num_filters, strides=strides[i], padding='same', kernel_size=(filter_sizes[i]),\n",
        "                                 kernel_initializer='he_normal', activation='relu')(x))\n",
        "        pool_size = int((maxlen-(filter_sizes[i]*2))/strides[i])\n",
        "        maxpool_layers.append(MaxPool1D(pool_size=pool_size, strides=strides[i])(conv_layers[i]))\n",
        "    if len(maxpool_layers)==1:\n",
        "        z = maxpool_layers[0]\n",
        "    else:\n",
        "        z = Concatenate(axis=1)(maxpool_layers)\n",
        "  \n",
        "    z = Flatten()(z)\n",
        "    z = Dropout(dropout)(z)\n",
        "    z = Dense(64, activation='relu')(z)\n",
        "    preds = Dense(1, activation='sigmoid')(z)\n",
        "\n",
        "    model = Model(sequence_input, preds)\n",
        "    model.compile(loss='binary_crossentropy',\n",
        "                  optimizer='adam',\n",
        "                  metrics=['acc'])\n",
        "    model.summary()\n",
        "  \n",
        "    return model"
      ],
      "execution_count": null,
      "outputs": []
    },
    {
      "cell_type": "code",
      "metadata": {
        "id": "CsmCwxFxBD8w"
      },
      "source": [
        "threshold = 0.35\n",
        "class F1Evaluation(Callback):\n",
        "    def __init__(self, validation_data=(), interval=1):\n",
        "        super(Callback, self).__init__()\n",
        "        self.interval = interval\n",
        "        self.X_val, self.y_val = validation_data\n",
        "\n",
        "    def on_epoch_end(self, epoch, logs={}):\n",
        "        if epoch % self.interval == 0:\n",
        "            y_pred = self.model.predict(self.X_val, verbose=0)\n",
        "            y_pred = (y_pred > threshold).astype(int)\n",
        "            score = f1_score(self.y_val, y_pred)\n",
        "            print(\"\\n F1 Score - epoch: %d - score: %.6f \\n\" % (epoch+1, score))\n",
        "            \n",
        "F1_Score = F1Evaluation(validation_data=(X_val, y_val), interval=1)"
      ],
      "execution_count": null,
      "outputs": []
    },
    {
      "cell_type": "code",
      "metadata": {
        "colab": {
          "base_uri": "https://localhost:8080/"
        },
        "id": "Fl-2u90SAgH3",
        "outputId": "43eee760-d54e-4e0c-8e38-70836657ccb9"
      },
      "source": [
        "\n",
        "filter_sizes = [1,3,3,4]\n",
        "strides = [1,3,2,4]\n",
        "epochs = 8\n",
        "batch_size = 1024\n",
        "num_filters = 20\n",
        "dropout = 0.3\n",
        "embed_train = False\n",
        "cnn = create_cnn(filter_sizes, strides, num_filters, embed_train=embed_train, dropout=dropout)\n",
        "history = cnn.fit(X_train, y_train, validation_data=(X_val, y_val), epochs=epochs,\n",
        "                  batch_size=batch_size, callbacks=[F1_Score])"
      ],
      "execution_count": null,
      "outputs": [
        {
          "output_type": "stream",
          "text": [
            "Model: \"functional_11\"\n",
            "__________________________________________________________________________________________________\n",
            "Layer (type)                    Output Shape         Param #     Connected to                     \n",
            "==================================================================================================\n",
            "input_8 (InputLayer)            [(None, 100)]        0                                            \n",
            "__________________________________________________________________________________________________\n",
            "embedding_11 (Embedding)        (None, 100, 300)     15000000    input_8[0][0]                    \n",
            "__________________________________________________________________________________________________\n",
            "conv1d_33 (Conv1D)              (None, 100, 20)      6020        embedding_11[0][0]               \n",
            "__________________________________________________________________________________________________\n",
            "conv1d_34 (Conv1D)              (None, 34, 20)       18020       embedding_11[0][0]               \n",
            "__________________________________________________________________________________________________\n",
            "conv1d_35 (Conv1D)              (None, 50, 20)       18020       embedding_11[0][0]               \n",
            "__________________________________________________________________________________________________\n",
            "conv1d_36 (Conv1D)              (None, 25, 20)       24020       embedding_11[0][0]               \n",
            "__________________________________________________________________________________________________\n",
            "max_pooling1d_22 (MaxPooling1D) (None, 3, 20)        0           conv1d_33[0][0]                  \n",
            "__________________________________________________________________________________________________\n",
            "max_pooling1d_23 (MaxPooling1D) (None, 2, 20)        0           conv1d_34[0][0]                  \n",
            "__________________________________________________________________________________________________\n",
            "max_pooling1d_24 (MaxPooling1D) (None, 2, 20)        0           conv1d_35[0][0]                  \n",
            "__________________________________________________________________________________________________\n",
            "max_pooling1d_25 (MaxPooling1D) (None, 1, 20)        0           conv1d_36[0][0]                  \n",
            "__________________________________________________________________________________________________\n",
            "concatenate_5 (Concatenate)     (None, 8, 20)        0           max_pooling1d_22[0][0]           \n",
            "                                                                 max_pooling1d_23[0][0]           \n",
            "                                                                 max_pooling1d_24[0][0]           \n",
            "                                                                 max_pooling1d_25[0][0]           \n",
            "__________________________________________________________________________________________________\n",
            "flatten_7 (Flatten)             (None, 160)          0           concatenate_5[0][0]              \n",
            "__________________________________________________________________________________________________\n",
            "dropout_5 (Dropout)             (None, 160)          0           flatten_7[0][0]                  \n",
            "__________________________________________________________________________________________________\n",
            "dense_25 (Dense)                (None, 64)           10304       dropout_5[0][0]                  \n",
            "__________________________________________________________________________________________________\n",
            "dense_26 (Dense)                (None, 1)            65          dense_25[0][0]                   \n",
            "==================================================================================================\n",
            "Total params: 15,076,449\n",
            "Trainable params: 76,449\n",
            "Non-trainable params: 15,000,000\n",
            "__________________________________________________________________________________________________\n",
            "Epoch 1/8\n",
            "4/4 [==============================] - ETA: 0s - loss: 0.6926 - acc: 0.8658\n",
            " F1 Score - epoch: 1 - score: 0.235971 \n",
            "\n",
            "4/4 [==============================] - 4s 940ms/step - loss: 0.6926 - acc: 0.8658 - val_loss: 0.6917 - val_acc: 0.8662\n",
            "Epoch 2/8\n",
            "4/4 [==============================] - ETA: 0s - loss: 0.6912 - acc: 0.8658\n",
            " F1 Score - epoch: 2 - score: 0.235971 \n",
            "\n",
            "4/4 [==============================] - 4s 877ms/step - loss: 0.6912 - acc: 0.8658 - val_loss: 0.6902 - val_acc: 0.8662\n",
            "Epoch 3/8\n",
            "4/4 [==============================] - ETA: 0s - loss: 0.6897 - acc: 0.8658\n",
            " F1 Score - epoch: 3 - score: 0.235971 \n",
            "\n",
            "4/4 [==============================] - 4s 916ms/step - loss: 0.6897 - acc: 0.8658 - val_loss: 0.6888 - val_acc: 0.8662\n",
            "Epoch 4/8\n",
            "4/4 [==============================] - ETA: 0s - loss: 0.6883 - acc: 0.8658\n",
            " F1 Score - epoch: 4 - score: 0.235971 \n",
            "\n",
            "4/4 [==============================] - 4s 906ms/step - loss: 0.6883 - acc: 0.8658 - val_loss: 0.6873 - val_acc: 0.8662\n",
            "Epoch 5/8\n",
            "4/4 [==============================] - ETA: 0s - loss: 0.6868 - acc: 0.8658\n",
            " F1 Score - epoch: 5 - score: 0.235971 \n",
            "\n",
            "4/4 [==============================] - 4s 887ms/step - loss: 0.6868 - acc: 0.8658 - val_loss: 0.6859 - val_acc: 0.8662\n",
            "Epoch 6/8\n",
            "4/4 [==============================] - ETA: 0s - loss: 0.6854 - acc: 0.8658\n",
            " F1 Score - epoch: 6 - score: 0.235971 \n",
            "\n",
            "4/4 [==============================] - 4s 910ms/step - loss: 0.6854 - acc: 0.8658 - val_loss: 0.6844 - val_acc: 0.8662\n",
            "Epoch 7/8\n",
            "4/4 [==============================] - ETA: 0s - loss: 0.6840 - acc: 0.8658\n",
            " F1 Score - epoch: 7 - score: 0.235971 \n",
            "\n",
            "4/4 [==============================] - 4s 921ms/step - loss: 0.6840 - acc: 0.8658 - val_loss: 0.6830 - val_acc: 0.8662\n",
            "Epoch 8/8\n",
            "4/4 [==============================] - ETA: 0s - loss: 0.6825 - acc: 0.8658\n",
            " F1 Score - epoch: 8 - score: 0.235971 \n",
            "\n",
            "4/4 [==============================] - 4s 902ms/step - loss: 0.6825 - acc: 0.8658 - val_loss: 0.6816 - val_acc: 0.8662\n"
          ],
          "name": "stdout"
        }
      ]
    },
    {
      "cell_type": "markdown",
      "metadata": {
        "id": "5BnISzdWDHVA"
      },
      "source": [
        "code reference https://www.kaggle.com/bmmidei/using-convolution-for-nlp-text-classification"
      ]
    },
    {
      "cell_type": "markdown",
      "metadata": {
        "id": "GGgAAc8rDDCx"
      },
      "source": [
        ""
      ]
    }
  ]
}