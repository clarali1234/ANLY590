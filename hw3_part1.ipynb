{
 "cells": [
  {
   "cell_type": "code",
   "execution_count": 2,
   "metadata": {},
   "outputs": [],
   "source": [
    "import numpy as np\n",
    "import matplotlib.pyplot as plt\n",
    "import tensorflow as tf\n",
    "import tensorflow.keras as tfk\n",
    "#import tensorflow_datasets as tfds\n",
    "\n",
    "tfkl = tfk.layers"
   ]
  },
  {
   "cell_type": "code",
   "execution_count": 3,
   "metadata": {},
   "outputs": [],
   "source": [
    "def unpickle(file):\n",
    "    import pickle\n",
    "    with open(file, 'rb') as fo:\n",
    "        dict = pickle.load(fo, encoding='bytes')\n",
    "    return dict"
   ]
  },
  {
   "cell_type": "code",
   "execution_count": 4,
   "metadata": {},
   "outputs": [],
   "source": [
    "data_batch1 = unpickle('data_batch_1')\n",
    "data1 = data_batch1[list(data_batch1.keys())[2]]\n",
    "data_batch2 = unpickle('data_batch_2')\n",
    "data2 = data_batch2[list(data_batch2.keys())[2]]\n",
    "data_batch3 = unpickle('data_batch_3')\n",
    "data3 = data_batch3[list(data_batch3.keys())[2]]\n",
    "data_batch4 = unpickle('data_batch_4')\n",
    "data4 = data_batch4[list(data_batch4.keys())[2]]\n",
    "data_batch5 = unpickle('data_batch_5')\n",
    "data5 = data_batch5[list(data_batch5.keys())[2]]\n",
    "\n",
    "test_batch = unpickle('test_batch')\n",
    "test = test_batch[list(test_batch.keys())[2]]\n",
    "data = np.array([*data1, *data2, *data3, *data4, *data5])"
   ]
  },
  {
   "cell_type": "code",
   "execution_count": 5,
   "metadata": {},
   "outputs": [],
   "source": [
    "img_shape = (32, 32, 3)"
   ]
  },
  {
   "cell_type": "code",
   "execution_count": 6,
   "metadata": {},
   "outputs": [],
   "source": [
    "\n",
    "import numpy as np\n",
    "x_train = data\n",
    "x_test = test\n",
    "\n",
    "x_train = x_train.astype('float32') / 255.\n",
    "x_test = x_test.astype('float32') / 255.\n",
    "x_train = np.reshape(x_train, (len(x_train), 32, 32, 3))\n",
    "x_test = np.reshape(x_test, (len(x_test), 32, 32, 3))"
   ]
  },
  {
   "cell_type": "code",
   "execution_count": 7,
   "metadata": {},
   "outputs": [
    {
     "name": "stdout",
     "output_type": "stream",
     "text": [
      "WARNING:tensorflow:From /Library/anaconda3/lib/python3.7/site-packages/keras/backend/tensorflow_backend.py:4070: The name tf.nn.max_pool is deprecated. Please use tf.nn.max_pool2d instead.\n",
      "\n",
      "WARNING:tensorflow:From /Library/anaconda3/lib/python3.7/site-packages/tensorflow/python/ops/nn_impl.py:180: add_dispatch_support.<locals>.wrapper (from tensorflow.python.ops.array_ops) is deprecated and will be removed in a future version.\n",
      "Instructions for updating:\n",
      "Use tf.where in 2.0, which has the same broadcast rule as np.where\n"
     ]
    },
    {
     "name": "stderr",
     "output_type": "stream",
     "text": [
      "Using TensorFlow backend.\n"
     ]
    }
   ],
   "source": [
    "import keras\n",
    "from keras import layers\n",
    "\n",
    "input_img = keras.Input(shape=(32, 32, 3))\n",
    "\n",
    "x = layers.Conv2D(32, (3, 3), activation='relu', padding='same')(input_img)\n",
    "x = layers.MaxPooling2D((2, 2), padding='same')(x)\n",
    "x = layers.Conv2D(32, (3, 3), activation='relu', padding='same')(x)\n",
    "encoded = layers.MaxPooling2D((2, 2), padding='same')(x)\n",
    "\n",
    "# At this point the representation is (7, 7, 32)\n",
    "\n",
    "x = layers.Conv2D(32, (3, 3), activation='relu', padding='same')(encoded)\n",
    "x = layers.UpSampling2D((2, 2))(x)\n",
    "x = layers.Conv2D(32, (3, 3), activation='relu', padding='same')(x)\n",
    "x = layers.UpSampling2D((2, 2))(x)\n",
    "decoded = layers.Conv2D(3, (3, 3), activation='sigmoid', padding='same')(x)\n",
    "\n",
    "autoencoder = keras.Model(input_img, decoded)\n",
    "autoencoder.compile(optimizer='adam', loss='binary_crossentropy')"
   ]
  },
  {
   "cell_type": "code",
   "execution_count": 8,
   "metadata": {},
   "outputs": [
    {
     "name": "stdout",
     "output_type": "stream",
     "text": [
      "WARNING:tensorflow:From /Library/anaconda3/lib/python3.7/site-packages/keras/backend/tensorflow_backend.py:422: The name tf.global_variables is deprecated. Please use tf.compat.v1.global_variables instead.\n",
      "\n",
      "Train on 50000 samples, validate on 10000 samples\n",
      "Epoch 1/50\n",
      "50000/50000 [==============================] - 62s 1ms/step - loss: 0.6105 - val_loss: 0.5966\n",
      "Epoch 2/50\n",
      "50000/50000 [==============================] - 58s 1ms/step - loss: 0.5922 - val_loss: 0.5899\n",
      "Epoch 3/50\n",
      "50000/50000 [==============================] - 58s 1ms/step - loss: 0.5868 - val_loss: 0.5856\n",
      "Epoch 4/50\n",
      "50000/50000 [==============================] - 58s 1ms/step - loss: 0.5831 - val_loss: 0.5844\n",
      "Epoch 5/50\n",
      "50000/50000 [==============================] - 229s 5ms/step - loss: 0.5809 - val_loss: 0.5837\n",
      "Epoch 6/50\n",
      "50000/50000 [==============================] - 61s 1ms/step - loss: 0.5794 - val_loss: 0.5794\n",
      "Epoch 7/50\n",
      "50000/50000 [==============================] - 64s 1ms/step - loss: 0.5782 - val_loss: 0.5783\n",
      "Epoch 8/50\n",
      "50000/50000 [==============================] - 64s 1ms/step - loss: 0.5772 - val_loss: 0.5775\n",
      "Epoch 9/50\n",
      "50000/50000 [==============================] - 64s 1ms/step - loss: 0.5764 - val_loss: 0.5768\n",
      "Epoch 10/50\n",
      "50000/50000 [==============================] - 68s 1ms/step - loss: 0.5758 - val_loss: 0.5764\n",
      "Epoch 11/50\n",
      "50000/50000 [==============================] - 68s 1ms/step - loss: 0.5753 - val_loss: 0.5758\n",
      "Epoch 12/50\n",
      "50000/50000 [==============================] - 67s 1ms/step - loss: 0.5748 - val_loss: 0.5753\n",
      "Epoch 13/50\n",
      "50000/50000 [==============================] - 71s 1ms/step - loss: 0.5744 - val_loss: 0.5754\n",
      "Epoch 14/50\n",
      "50000/50000 [==============================] - 71s 1ms/step - loss: 0.5740 - val_loss: 0.5746\n",
      "Epoch 15/50\n",
      "50000/50000 [==============================] - 69s 1ms/step - loss: 0.5737 - val_loss: 0.5745\n",
      "Epoch 16/50\n",
      "50000/50000 [==============================] - 70s 1ms/step - loss: 0.5733 - val_loss: 0.5739\n",
      "Epoch 17/50\n",
      "50000/50000 [==============================] - 70s 1ms/step - loss: 0.5730 - val_loss: 0.5736\n",
      "Epoch 18/50\n",
      "50000/50000 [==============================] - 68s 1ms/step - loss: 0.5728 - val_loss: 0.5733\n",
      "Epoch 19/50\n",
      "50000/50000 [==============================] - 68s 1ms/step - loss: 0.5724 - val_loss: 0.5734\n",
      "Epoch 20/50\n",
      "50000/50000 [==============================] - 68s 1ms/step - loss: 0.5722 - val_loss: 0.5732\n",
      "Epoch 21/50\n",
      "50000/50000 [==============================] - 68s 1ms/step - loss: 0.5720 - val_loss: 0.5729\n",
      "Epoch 22/50\n",
      "50000/50000 [==============================] - 68s 1ms/step - loss: 0.5717 - val_loss: 0.5730\n",
      "Epoch 23/50\n",
      "50000/50000 [==============================] - 66s 1ms/step - loss: 0.5715 - val_loss: 0.5721\n",
      "Epoch 24/50\n",
      "50000/50000 [==============================] - 67s 1ms/step - loss: 0.5714 - val_loss: 0.5720\n",
      "Epoch 25/50\n",
      "50000/50000 [==============================] - 66s 1ms/step - loss: 0.5711 - val_loss: 0.5721\n",
      "Epoch 26/50\n",
      "50000/50000 [==============================] - 66s 1ms/step - loss: 0.5710 - val_loss: 0.5720\n",
      "Epoch 27/50\n",
      "50000/50000 [==============================] - 70s 1ms/step - loss: 0.5708 - val_loss: 0.5715\n",
      "Epoch 28/50\n",
      "50000/50000 [==============================] - 68s 1ms/step - loss: 0.5706 - val_loss: 0.5717\n",
      "Epoch 29/50\n",
      "50000/50000 [==============================] - 67s 1ms/step - loss: 0.5705 - val_loss: 0.5721\n",
      "Epoch 30/50\n",
      "50000/50000 [==============================] - 66s 1ms/step - loss: 0.5704 - val_loss: 0.5710\n",
      "Epoch 31/50\n",
      "50000/50000 [==============================] - 71s 1ms/step - loss: 0.5702 - val_loss: 0.5709\n",
      "Epoch 32/50\n",
      "50000/50000 [==============================] - 76s 2ms/step - loss: 0.5701 - val_loss: 0.5708\n",
      "Epoch 33/50\n",
      "50000/50000 [==============================] - 67s 1ms/step - loss: 0.5699 - val_loss: 0.5721\n",
      "Epoch 34/50\n",
      "50000/50000 [==============================] - 67s 1ms/step - loss: 0.5698 - val_loss: 0.5705\n",
      "Epoch 35/50\n",
      "50000/50000 [==============================] - 67s 1ms/step - loss: 0.5697 - val_loss: 0.5704\n",
      "Epoch 36/50\n",
      "50000/50000 [==============================] - 64s 1ms/step - loss: 0.5696 - val_loss: 0.5703\n",
      "Epoch 37/50\n",
      "50000/50000 [==============================] - 65s 1ms/step - loss: 0.5694 - val_loss: 0.5706\n",
      "Epoch 38/50\n",
      "50000/50000 [==============================] - 64s 1ms/step - loss: 0.5693 - val_loss: 0.5706\n",
      "Epoch 39/50\n",
      "50000/50000 [==============================] - 66s 1ms/step - loss: 0.5692 - val_loss: 0.5702\n",
      "Epoch 40/50\n",
      "50000/50000 [==============================] - 66s 1ms/step - loss: 0.5692 - val_loss: 0.5698\n",
      "Epoch 41/50\n",
      "50000/50000 [==============================] - 68s 1ms/step - loss: 0.5690 - val_loss: 0.5701\n",
      "Epoch 42/50\n",
      "50000/50000 [==============================] - 67s 1ms/step - loss: 0.5689 - val_loss: 0.5700\n",
      "Epoch 43/50\n",
      "50000/50000 [==============================] - 70s 1ms/step - loss: 0.5689 - val_loss: 0.5695\n",
      "Epoch 44/50\n",
      "50000/50000 [==============================] - 68s 1ms/step - loss: 0.5687 - val_loss: 0.5696\n",
      "Epoch 45/50\n",
      "50000/50000 [==============================] - 68s 1ms/step - loss: 0.5686 - val_loss: 0.5700\n",
      "Epoch 46/50\n",
      "50000/50000 [==============================] - 64s 1ms/step - loss: 0.5686 - val_loss: 0.5696\n",
      "Epoch 47/50\n",
      "50000/50000 [==============================] - 67s 1ms/step - loss: 0.5685 - val_loss: 0.5693\n",
      "Epoch 48/50\n",
      "50000/50000 [==============================] - 70s 1ms/step - loss: 0.5684 - val_loss: 0.5693\n",
      "Epoch 49/50\n",
      "50000/50000 [==============================] - 67s 1ms/step - loss: 0.5683 - val_loss: 0.5691\n",
      "Epoch 50/50\n",
      "50000/50000 [==============================] - 71s 1ms/step - loss: 0.5682 - val_loss: 0.5690\n"
     ]
    },
    {
     "data": {
      "text/plain": [
       "<keras.callbacks.callbacks.History at 0x7f8b6e341250>"
      ]
     },
     "execution_count": 8,
     "metadata": {},
     "output_type": "execute_result"
    }
   ],
   "source": [
    "import tensorflow.keras as keras\n",
    "from keras.callbacks import TensorBoard\n",
    "\n",
    "autoencoder.fit(x_train, x_train,\n",
    "                epochs=50,\n",
    "                batch_size=128,\n",
    "                shuffle=True,\n",
    "                validation_data=(x_test, x_test))"
   ]
  },
  {
   "cell_type": "code",
   "execution_count": 9,
   "metadata": {},
   "outputs": [
    {
     "name": "stdout",
     "output_type": "stream",
     "text": [
      "Train on 50000 samples, validate on 10000 samples\n",
      "WARNING:tensorflow:From /Library/anaconda3/lib/python3.7/site-packages/keras/callbacks/tensorboard_v1.py:200: The name tf.summary.merge_all is deprecated. Please use tf.compat.v1.summary.merge_all instead.\n",
      "\n",
      "WARNING:tensorflow:From /Library/anaconda3/lib/python3.7/site-packages/keras/callbacks/tensorboard_v1.py:206: The name tf.summary.FileWriter is deprecated. Please use tf.compat.v1.summary.FileWriter instead.\n",
      "\n",
      "Epoch 1/25\n",
      "50000/50000 [==============================] - 105s 2ms/step - loss: 0.5682 - val_loss: 0.5693\n",
      "WARNING:tensorflow:From /Library/anaconda3/lib/python3.7/site-packages/keras/callbacks/tensorboard_v1.py:343: The name tf.Summary is deprecated. Please use tf.compat.v1.Summary instead.\n",
      "\n",
      "Epoch 2/25\n",
      "50000/50000 [==============================] - 106s 2ms/step - loss: 0.5681 - val_loss: 0.5690\n",
      "Epoch 3/25\n",
      "50000/50000 [==============================] - 114s 2ms/step - loss: 0.5680 - val_loss: 0.5689\n",
      "Epoch 4/25\n",
      "50000/50000 [==============================] - 272s 5ms/step - loss: 0.5679 - val_loss: 0.5688\n",
      "Epoch 5/25\n",
      "50000/50000 [==============================] - 118s 2ms/step - loss: 0.5679 - val_loss: 0.5687\n",
      "Epoch 6/25\n",
      "50000/50000 [==============================] - 110s 2ms/step - loss: 0.5678 - val_loss: 0.5686\n",
      "Epoch 7/25\n",
      "50000/50000 [==============================] - 113s 2ms/step - loss: 0.5678 - val_loss: 0.5685\n",
      "Epoch 8/25\n",
      "50000/50000 [==============================] - 110s 2ms/step - loss: 0.5677 - val_loss: 0.5686\n",
      "Epoch 9/25\n",
      "50000/50000 [==============================] - 113s 2ms/step - loss: 0.5676 - val_loss: 0.5686\n",
      "Epoch 10/25\n",
      "50000/50000 [==============================] - 125s 2ms/step - loss: 0.5676 - val_loss: 0.5684\n",
      "Epoch 11/25\n",
      "50000/50000 [==============================] - 116s 2ms/step - loss: 0.5675 - val_loss: 0.5684\n",
      "Epoch 12/25\n",
      "50000/50000 [==============================] - 135s 3ms/step - loss: 0.5675 - val_loss: 0.5683\n",
      "Epoch 13/25\n",
      "50000/50000 [==============================] - 128s 3ms/step - loss: 0.5674 - val_loss: 0.5682\n",
      "Epoch 14/25\n",
      "50000/50000 [==============================] - 120s 2ms/step - loss: 0.5674 - val_loss: 0.5682\n",
      "Epoch 15/25\n",
      "50000/50000 [==============================] - 128s 3ms/step - loss: 0.5674 - val_loss: 0.5686\n",
      "Epoch 16/25\n",
      "50000/50000 [==============================] - 129s 3ms/step - loss: 0.5673 - val_loss: 0.5681\n",
      "Epoch 17/25\n",
      "50000/50000 [==============================] - 138s 3ms/step - loss: 0.5672 - val_loss: 0.5681\n",
      "Epoch 18/25\n",
      "50000/50000 [==============================] - 106s 2ms/step - loss: 0.5672 - val_loss: 0.5681\n",
      "Epoch 19/25\n",
      "50000/50000 [==============================] - 104s 2ms/step - loss: 0.5672 - val_loss: 0.5682\n",
      "Epoch 20/25\n",
      "50000/50000 [==============================] - 128s 3ms/step - loss: 0.5671 - val_loss: 0.5682\n",
      "Epoch 21/25\n",
      "50000/50000 [==============================] - 91s 2ms/step - loss: 0.5671 - val_loss: 0.5685\n",
      "Epoch 22/25\n",
      "50000/50000 [==============================] - 59s 1ms/step - loss: 0.5671 - val_loss: 0.5678\n",
      "Epoch 23/25\n",
      "50000/50000 [==============================] - 59s 1ms/step - loss: 0.5670 - val_loss: 0.5681\n",
      "Epoch 24/25\n",
      "50000/50000 [==============================] - 57s 1ms/step - loss: 0.5670 - val_loss: 0.5678\n",
      "Epoch 25/25\n",
      "50000/50000 [==============================] - 57s 1ms/step - loss: 0.5670 - val_loss: 0.5680\n"
     ]
    },
    {
     "data": {
      "text/plain": [
       "<keras.callbacks.callbacks.History at 0x7f8b4df34d90>"
      ]
     },
     "execution_count": 9,
     "metadata": {},
     "output_type": "execute_result"
    }
   ],
   "source": [
    "import tensorflow.keras as keras\n",
    "from keras.callbacks import TensorBoard\n",
    "\n",
    "autoencoder.fit(x_train, x_train,\n",
    "                epochs=25,\n",
    "                batch_size=128,\n",
    "                shuffle=True,\n",
    "                validation_data=(x_test, x_test),\n",
    "                callbacks=[TensorBoard(log_dir='/tmp/tb', histogram_freq=0, write_graph=False)])"
   ]
  },
  {
   "cell_type": "code",
   "execution_count": 18,
   "metadata": {},
   "outputs": [
    {
     "data": {
      "image/png": "[encoded data removed]",
      "text/plain": [
       "<Figure size 1440x288 with 8 Axes>"
      ]
     },
     "metadata": {
      "needs_background": "light"
     },
     "output_type": "display_data"
    }
   ],
   "source": [
    "decoded_imgs = autoencoder.predict(x_test)\n",
    "n = 4\n",
    "plt.figure(figsize=(20, 4))\n",
    "for i in range(1, n + 1):\n",
    "    # Display original\n",
    "    ax = plt.subplot(2, n, i)\n",
    "    plt.imshow(x_test[i].reshape(32, 32, 3))\n",
    "    plt.gray()\n",
    "    ax.get_xaxis().set_visible(False)\n",
    "    ax.get_yaxis().set_visible(False)\n",
    "\n",
    "    # Display reconstruction\n",
    "    ax = plt.subplot(2, n, i + n)\n",
    "    plt.imshow(decoded_imgs[i].reshape(32, 32, 3))\n",
    "    plt.gray()\n",
    "    ax.get_xaxis().set_visible(False)\n",
    "    ax.get_yaxis().set_visible(False)\n",
    "plt.show()"
   ]
  },
  {
   "cell_type": "code",
   "execution_count": null,
   "metadata": {},
   "outputs": [],
   "source": []
  }
 ],
 "metadata": {
  "kernelspec": {
   "display_name": "Python 3",
   "language": "python",
   "name": "python3"
  },
  "language_info": {
   "codemirror_mode": {
    "name": "ipython",
    "version": 3
   },
   "file_extension": ".py",
   "mimetype": "text/x-python",
   "name": "python",
   "nbconvert_exporter": "python",
   "pygments_lexer": "ipython3",
   "version": "3.7.4"
  }
 },
 "nbformat": 4,
 "nbformat_minor": 2
}
