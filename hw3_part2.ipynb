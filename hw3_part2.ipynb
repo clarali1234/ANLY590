{
  "nbformat": 4,
  "nbformat_minor": 0,
  "metadata": {
    "colab": {
      "name": "hw3_part2.ipynb",
      "provenance": [],
      "collapsed_sections": []
    },
    "kernelspec": {
      "name": "python3",
      "display_name": "Python 3"
    }
  },
  "cells": [
    {
      "cell_type": "code",
      "metadata": {
        "id": "7fUmf1kfZpjh"
      },
      "source": [
        "import numpy as np\n",
        "import matplotlib.pyplot as plt\n",
        "import tensorflow as tf\n",
        "import tensorflow.keras as tfk\n",
        "#import tensorflow_datasets as tfds\n",
        "tfkl = tfk.layers"
      ],
      "execution_count": 6,
      "outputs": []
    },
    {
      "cell_type": "code",
      "metadata": {
        "id": "CC_Q22g0fx2I"
      },
      "source": [
        "def unpickle(file):\n",
        "    import pickle\n",
        "    with open(file, 'rb') as fo:\n",
        "        dict = pickle.load(fo, encoding='bytes')\n",
        "    return dict"
      ],
      "execution_count": 7,
      "outputs": []
    },
    {
      "cell_type": "code",
      "metadata": {
        "id": "iJ0RCf9Tf-o2"
      },
      "source": [
        "data_batch1 = unpickle('data_batch_1')\n",
        "data1 = data_batch1[list(data_batch1.keys())[2]]\n",
        "\n",
        "data_batch2 = unpickle('data_batch_2')\n",
        "data2 = data_batch2[list(data_batch2.keys())[2]]\n",
        "data_batch3 = unpickle('data_batch_3')\n",
        "data3 = data_batch3[list(data_batch3.keys())[2]]\n",
        "data_batch4 = unpickle('data_batch_4')\n",
        "data4 = data_batch4[list(data_batch4.keys())[2]]\n",
        "data_batch5 = unpickle('data_batch_5')\n",
        "data5 = data_batch5[list(data_batch5.keys())[2]]\n",
        "\n",
        "test_batch = unpickle('test_batch')\n",
        "test = test_batch[list(test_batch.keys())[2]]\n",
        "test_labels5 =  test_batch[list(test_batch .keys())[1]]\n",
        "data = np.array([*data1, *data2, *data3, *data4, *data5])"
      ],
      "execution_count": 8,
      "outputs": []
    },
    {
      "cell_type": "code",
      "metadata": {
        "id": "gfC-2tpYjJw8"
      },
      "source": [
        "labels1 =  data_batch1[list(data_batch1.keys())[1]]\n",
        "labels2 =  data_batch2[list(data_batch2.keys())[1]]\n",
        "labels3 =  data_batch3[list(data_batch3.keys())[1]]\n",
        "labels4 =  data_batch4[list(data_batch4.keys())[1]]\n",
        "labels5 =  data_batch5[list(data_batch5.keys())[1]]\n",
        "labels = np.array([*labels1, *labels2, *labels3, *labels4, *labels4])"
      ],
      "execution_count": 9,
      "outputs": []
    },
    {
      "cell_type": "code",
      "metadata": {
        "id": "XeSpj6_ikzdz"
      },
      "source": [
        "images = data\n",
        "images = images/255.0\n",
        "images = images[:, :, np.newaxis]\n",
        "images = np.reshape(images, (len(images), 32, 32, 3))\n",
        "labels = tf.one_hot(labels.astype(np.int32), depth = 10)"
      ],
      "execution_count": 10,
      "outputs": []
    },
    {
      "cell_type": "code",
      "metadata": {
        "id": "IXsCy_NRpFHA",
        "colab": {
          "base_uri": "https://localhost:8080/"
        },
        "outputId": "ee805e53-5c5d-4aba-b5fb-dbae295af35f"
      },
      "source": [
        "model = tfk.Sequential()\n",
        "# block1\n",
        "model.add(tfkl.Conv2D(filters = 32, kernel_size=2, strides=2, \n",
        "                      padding=\"valid\", activation='relu', input_shape=(32, 32, 3)))\n",
        "model.add(tfkl.MaxPool2D(pool_size=2))\n",
        "model.add(tfkl.Dropout(.2))\n",
        "\n",
        "\n",
        "# block2\n",
        "model.add(tfkl.Conv2D(filters = 16, kernel_size=2, strides=1, \n",
        "                      padding=\"valid\", activation='relu'))\n",
        "model.add(tfkl.MaxPool2D(pool_size=2))\n",
        "model.add(tfkl.Dropout(.2))\n",
        "\n",
        "# block3\n",
        "model.add(tfkl.Conv2D(filters = 8, kernel_size=2, strides=1, \n",
        "                      padding=\"valid\", activation='relu'))\n",
        "model.add(tfkl.MaxPool2D(pool_size=2))\n",
        "model.add(tfkl.Dropout(.2))\n",
        "\n",
        "# flatten\n",
        "model.add(tfkl.GlobalMaxPool2D())\n",
        "model.add(tfkl.Dense(10, activation = 'softmax'))\n",
        "\n",
        "\n",
        "model.summary()"
      ],
      "execution_count": 22,
      "outputs": [
        {
          "output_type": "stream",
          "text": [
            "Model: \"sequential_1\"\n",
            "_________________________________________________________________\n",
            "Layer (type)                 Output Shape              Param #   \n",
            "=================================================================\n",
            "conv2d (Conv2D)              (None, 16, 16, 32)        416       \n",
            "_________________________________________________________________\n",
            "max_pooling2d (MaxPooling2D) (None, 8, 8, 32)          0         \n",
            "_________________________________________________________________\n",
            "dropout_1 (Dropout)          (None, 8, 8, 32)          0         \n",
            "_________________________________________________________________\n",
            "conv2d_1 (Conv2D)            (None, 7, 7, 16)          2064      \n",
            "_________________________________________________________________\n",
            "max_pooling2d_1 (MaxPooling2 (None, 3, 3, 16)          0         \n",
            "_________________________________________________________________\n",
            "dropout_2 (Dropout)          (None, 3, 3, 16)          0         \n",
            "_________________________________________________________________\n",
            "conv2d_2 (Conv2D)            (None, 2, 2, 8)           520       \n",
            "_________________________________________________________________\n",
            "max_pooling2d_2 (MaxPooling2 (None, 1, 1, 8)           0         \n",
            "_________________________________________________________________\n",
            "dropout_3 (Dropout)          (None, 1, 1, 8)           0         \n",
            "_________________________________________________________________\n",
            "global_max_pooling2d_1 (Glob (None, 8)                 0         \n",
            "_________________________________________________________________\n",
            "dense_2 (Dense)              (None, 10)                90        \n",
            "=================================================================\n",
            "Total params: 3,090\n",
            "Trainable params: 3,090\n",
            "Non-trainable params: 0\n",
            "_________________________________________________________________\n"
          ],
          "name": "stdout"
        }
      ]
    },
    {
      "cell_type": "code",
      "metadata": {
        "colab": {
          "base_uri": "https://localhost:8080/"
        },
        "id": "v3wBMmsYk2uQ",
        "outputId": "72c8f669-8851-4e1b-a72a-3bd69376e9fa"
      },
      "source": [
        "model.compile(\n",
        "    optimizer=tfk.optimizers.RMSprop(),\n",
        "    loss=tfk.losses.CategoricalCrossentropy(),\n",
        ")\n",
        "\n",
        "#results = model.fit(images, labels,steps_per_epoch=20, epochs=20, validation_data=x_test)\n",
        "results = model.fit(images, labels, steps_per_epoch=20,batch_size = 35,  epochs=5)"
      ],
      "execution_count": 23,
      "outputs": [
        {
          "output_type": "stream",
          "text": [
            "Epoch 1/5\n",
            "20/20 [==============================] - 0s 11ms/step - loss: 2.3112\n",
            "Epoch 2/5\n",
            "20/20 [==============================] - 0s 10ms/step - loss: 2.3044\n",
            "Epoch 3/5\n",
            "20/20 [==============================] - 0s 11ms/step - loss: 2.3028\n",
            "Epoch 4/5\n",
            "20/20 [==============================] - 0s 11ms/step - loss: 2.3034\n",
            "Epoch 5/5\n",
            "20/20 [==============================] - 0s 11ms/step - loss: 2.3035\n"
          ],
          "name": "stdout"
        }
      ]
    },
    {
      "cell_type": "code",
      "metadata": {
        "colab": {
          "base_uri": "https://localhost:8080/",
          "height": 282
        },
        "id": "BL8rin3lk72O",
        "outputId": "d1f0a192-cb0f-4e50-ce57-f0fddf662ee7"
      },
      "source": [
        "plt.plot(results.history[\"loss\"])\n",
        "#plt.plot(results.history[\"val_loss\"])\n",
        "plt.legend(labels=[\"train\", \"val\"])"
      ],
      "execution_count": null,
      "outputs": [
        {
          "output_type": "execute_result",
          "data": {
            "text/plain": [
              "<matplotlib.legend.Legend at 0x7f82253c5048>"
            ]
          },
          "metadata": {
            "tags": []
          },
          "execution_count": 10
        },
        {
          "output_type": "display_data",
          "data": {
            "image/png": "[encoded data removed]",
            "text/plain": [
              "<Figure size 432x288 with 1 Axes>"
            ]
          },
          "metadata": {
            "tags": [],
            "needs_background": "light"
          }
        }
      ]
    },
    {
      "cell_type": "code",
      "metadata": {
        "id": "cOKmiB51wWNq"
      },
      "source": [
        "\n",
        "test = test/255.0\n",
        "test = test[:, :, np.newaxis]\n",
        "test = np.reshape(test, (len(test), 32, 32, 3))"
      ],
      "execution_count": 11,
      "outputs": []
    },
    {
      "cell_type": "code",
      "metadata": {
        "id": "Z3wPqwrdmLsO",
        "colab": {
          "base_uri": "https://localhost:8080/",
          "height": 350
        },
        "outputId": "fa42d3f4-a6c1-4dde-940b-8b692fe93900"
      },
      "source": [
        "\n",
        "plt.stem(model.predict(test)[9, :])\n",
        "plt.xlabel(\"Digit\")\n",
        "plt.xlabel(\"Probability\")"
      ],
      "execution_count": null,
      "outputs": [
        {
          "output_type": "stream",
          "text": [
            "/usr/local/lib/python3.6/dist-packages/ipykernel_launcher.py:2: UserWarning: In Matplotlib 3.3 individual lines on a stem plot will be added as a LineCollection instead of individual lines. This significantly improves the performance of a stem plot. To remove this warning and switch to the new behaviour, set the \"use_line_collection\" keyword argument to True.\n",
            "  \n"
          ],
          "name": "stderr"
        },
        {
          "output_type": "execute_result",
          "data": {
            "text/plain": [
              "Text(0.5, 0, 'Probability')"
            ]
          },
          "metadata": {
            "tags": []
          },
          "execution_count": 13
        },
        {
          "output_type": "display_data",
          "data": {
            "image/png": "[encoded data removed]",
            "text/plain": [
              "<Figure size 432x288 with 1 Axes>"
            ]
          },
          "metadata": {
            "tags": [],
            "needs_background": "light"
          }
        }
      ]
    },
    {
      "cell_type": "code",
      "metadata": {
        "colab": {
          "base_uri": "https://localhost:8080/"
        },
        "id": "4S7SMPg0DbPn",
        "outputId": "6dc1bae6-8901-4eca-e214-3ee20314b2f6"
      },
      "source": [
        "from tensorflow.keras.applications import VGG16\n",
        "conv_base = VGG16(weights=\"imagenet\",include_top=False,input_shape=(32,32,3))"
      ],
      "execution_count": 12,
      "outputs": [
        {
          "output_type": "stream",
          "text": [
            "Downloading data from https://storage.googleapis.com/tensorflow/keras-applications/vgg16/vgg16_weights_tf_dim_ordering_tf_kernels_notop.h5\n",
            "58892288/58889256 [==============================] - 0s 0us/step\n"
          ],
          "name": "stdout"
        }
      ]
    },
    {
      "cell_type": "code",
      "metadata": {
        "id": "GTRtYP1yrlTc",
        "colab": {
          "base_uri": "https://localhost:8080/"
        },
        "outputId": "662b67d6-f038-4372-8e15-712a8272226e"
      },
      "source": [
        "model1 = tf.keras.models.Sequential()\n",
        "\n",
        "model1.add(conv_base)\n",
        "model1.add(tf.keras.layers.GlobalMaxPooling2D())\n",
        "model1.add(tf.keras.layers.Dense(128,activation='relu'))\n",
        "model1.add(tf.keras.layers.Dropout(0.5))\n",
        "model1.add(tf.keras.layers.Dense(10,activation='softmax'))\n",
        "\n",
        "model1.summary()"
      ],
      "execution_count": 13,
      "outputs": [
        {
          "output_type": "stream",
          "text": [
            "Model: \"sequential\"\n",
            "_________________________________________________________________\n",
            "Layer (type)                 Output Shape              Param #   \n",
            "=================================================================\n",
            "vgg16 (Functional)           (None, 1, 1, 512)         14714688  \n",
            "_________________________________________________________________\n",
            "global_max_pooling2d (Global (None, 512)               0         \n",
            "_________________________________________________________________\n",
            "dense (Dense)                (None, 128)               65664     \n",
            "_________________________________________________________________\n",
            "dropout (Dropout)            (None, 128)               0         \n",
            "_________________________________________________________________\n",
            "dense_1 (Dense)              (None, 10)                1290      \n",
            "=================================================================\n",
            "Total params: 14,781,642\n",
            "Trainable params: 14,781,642\n",
            "Non-trainable params: 0\n",
            "_________________________________________________________________\n"
          ],
          "name": "stdout"
        }
      ]
    },
    {
      "cell_type": "code",
      "metadata": {
        "colab": {
          "base_uri": "https://localhost:8080/"
        },
        "id": "-T92lMAkEArB",
        "outputId": "bbe7a218-c940-4c90-a1ab-da76e2bac3f1"
      },
      "source": [
        "model1.compile(\n",
        "    optimizer=tfk.optimizers.RMSprop(),\n",
        "    loss=tfk.losses.CategoricalCrossentropy(),\n",
        ")\n",
        "\n",
        "results = model1.fit(images, labels, batch_size = 35,  epochs=1)"
      ],
      "execution_count": 17,
      "outputs": [
        {
          "output_type": "stream",
          "text": [
            "1429/1429 [==============================] - 5238s 4s/step - loss: 2.3027\n"
          ],
          "name": "stdout"
        }
      ]
    },
    {
      "cell_type": "code",
      "metadata": {
        "colab": {
          "base_uri": "https://localhost:8080/",
          "height": 282
        },
        "id": "qWc8lk2TNr-q",
        "outputId": "154d0cf6-2e13-4d48-b521-30a60639c458"
      },
      "source": [
        "plt.plot(results.history[\"loss\"])\n",
        "plt.legend(labels=[\"train\", \"val\"])"
      ],
      "execution_count": 24,
      "outputs": [
        {
          "output_type": "execute_result",
          "data": {
            "text/plain": [
              "<matplotlib.legend.Legend at 0x7f2885e336a0>"
            ]
          },
          "metadata": {
            "tags": []
          },
          "execution_count": 24
        },
        {
          "output_type": "display_data",
          "data": {
            "image/png": "[encoded data removed]",
            "text/plain": [
              "<Figure size 432x288 with 1 Axes>"
            ]
          },
          "metadata": {
            "tags": [],
            "needs_background": "light"
          }
        }
      ]
    }
  ]
}